{
 "cells": [
  {
   "cell_type": "code",
   "execution_count": 3,
   "metadata": {},
   "outputs": [
    {
     "name": "stderr",
     "output_type": "stream",
     "text": [
      "C:\\Users\\Administrator\\AppData\\Roaming\\Python\\Python311\\site-packages\\langchain_community\\embeddings\\sentence_transformer.py:3: LangChainDeprecationWarning: As of langchain-core 0.3.0, LangChain uses pydantic v2 internally. The langchain_core.pydantic_v1 module was a compatibility shim for pydantic v1, and should no longer be used. Please update the code to import from Pydantic directly.\n",
      "\n",
      "For example, replace imports like: `from langchain_core.pydantic_v1 import BaseModel`\n",
      "with: `from pydantic import BaseModel`\n",
      "or the v1 compatibility namespace if you are working in a code base that has not been fully upgraded to pydantic 2 yet. \tfrom pydantic.v1 import BaseModel\n",
      "\n",
      "  from langchain_community.embeddings.huggingface import HuggingFaceEmbeddings\n"
     ]
    }
   ],
   "source": [
    "import os\n",
    "from langchain.text_splitter import RecursiveCharacterTextSplitter\n",
    "from langchain.vectorstores import Chroma\n",
    "from langchain.embeddings import SentenceTransformerEmbeddings\n",
    "from langchain.document_loaders import DirectoryLoader\n",
    "from langchain.document_loaders import PyPDFLoader\n",
    "from langchain import PromptTemplate\n",
    "from langchain.llms import CTransformers\n",
    "from langchain.text_splitter import RecursiveCharacterTextSplitter\n",
    "from langchain.vectorstores import Chroma\n",
    "from langchain.chains import RetrievalQA"
   ]
  },
  {
   "cell_type": "code",
   "execution_count": 4,
   "metadata": {},
   "outputs": [
    {
     "name": "stderr",
     "output_type": "stream",
     "text": [
      "C:\\Users\\Administrator\\AppData\\Local\\Temp\\ipykernel_11612\\45285844.py:1: LangChainDeprecationWarning: The class `HuggingFaceEmbeddings` was deprecated in LangChain 0.2.2 and will be removed in 0.3.0. An updated version of the class exists in the :class:`~langchain-huggingface package and should be used instead. To use it run `pip install -U :class:`~langchain-huggingface` and import as `from :class:`~langchain_huggingface import HuggingFaceEmbeddings``.\n",
      "  embeddings = SentenceTransformerEmbeddings(model_name=\"NeuML/pubmedbert-base-embeddings\")\n",
      "C:\\Users\\Administrator\\AppData\\Roaming\\Python\\Python311\\site-packages\\sentence_transformers\\cross_encoder\\CrossEncoder.py:13: TqdmExperimentalWarning: Using `tqdm.autonotebook.tqdm` in notebook mode. Use `tqdm.tqdm` instead to force console mode (e.g. in jupyter console)\n",
      "  from tqdm.autonotebook import tqdm, trange\n"
     ]
    },
    {
     "name": "stdout",
     "output_type": "stream",
     "text": [
      "WARNING:tensorflow:From C:\\Users\\Administrator\\AppData\\Roaming\\Python\\Python311\\site-packages\\tf_keras\\src\\losses.py:2976: The name tf.losses.sparse_softmax_cross_entropy is deprecated. Please use tf.compat.v1.losses.sparse_softmax_cross_entropy instead.\n",
      "\n"
     ]
    }
   ],
   "source": [
    "embeddings = SentenceTransformerEmbeddings(model_name=\"NeuML/pubmedbert-base-embeddings\")"
   ]
  },
  {
   "cell_type": "code",
   "execution_count": 5,
   "metadata": {},
   "outputs": [
    {
     "name": "stderr",
     "output_type": "stream",
     "text": [
      "100%|██████████| 1/1 [00:06<00:00,  6.55s/it]\n"
     ]
    },
    {
     "name": "stdout",
     "output_type": "stream",
     "text": [
      "Vector DB Successfully Created!\n"
     ]
    }
   ],
   "source": [
    "# Creating the vector store\n",
    "loader = DirectoryLoader('pdf/', glob=\"**/*.pdf\", show_progress=True, loader_cls=PyPDFLoader)\n",
    "documents = loader.load()\n",
    "text_splitter = RecursiveCharacterTextSplitter(chunk_size=500, chunk_overlap=50)\n",
    "texts = text_splitter.split_documents(documents)\n",
    "\n",
    "\n",
    "vector_store = Chroma.from_documents(texts, embeddings, collection_metadata={\"hnsw:space\":\"cosine\"}, persist_directory= \"stores/cosine\")\n",
    "\n",
    "print(\"Vector DB Successfully Created!\")"
   ]
  },
  {
   "cell_type": "code",
   "execution_count": 6,
   "metadata": {},
   "outputs": [
    {
     "name": "stdout",
     "output_type": "stream",
     "text": [
      "Model Initialized\n"
     ]
    }
   ],
   "source": [
    "local_llm = \"meditron-7b.Q4_K_M.gguf\"\n",
    "config = {\n",
    "'max_new_tokens': 512,\n",
    "'context_lenght': 1024,\n",
    "'repetition_penalty': 1.1,\n",
    "'temperature': 0.1,\n",
    "'top_k': 50,\n",
    "'top_p': 0.9,\n",
    "'stream': True,\n",
    "'threads': int(os.cpu_count()/2),\n",
    "}\n",
    "\n",
    "llm = CTransformers(\n",
    "    model=local_llm,\n",
    "    model_type=\"llama\",\n",
    "    lib=\"avx2\",\n",
    "    **config\n",
    ")\n",
    "\n",
    "print(\"Model Initialized\")"
   ]
  },
  {
   "cell_type": "code",
   "execution_count": 7,
   "metadata": {},
   "outputs": [],
   "source": [
    "prompt_template = \"\"\"You are a medical assistant. Don't show any hate,\n",
    "abusive, racist, type of behavior. Be as kind and professional as possible.\n",
    "If you don't know the answer, just say that you don't know, don't try to make up an answer.\"\n",
    "\n",
    "Context: {context}\n",
    "Question: {question}\n",
    "\n",
    "Only return the helpful answer below and nothing else.\n",
    "Helpful answer:\n",
    "\"\"\""
   ]
  },
  {
   "cell_type": "code",
   "execution_count": 8,
   "metadata": {},
   "outputs": [
    {
     "name": "stderr",
     "output_type": "stream",
     "text": [
      "C:\\Users\\Administrator\\AppData\\Local\\Temp\\ipykernel_11612\\455915575.py:9: LangChainDeprecationWarning: The class `Chroma` was deprecated in LangChain 0.2.9 and will be removed in 0.4. An updated version of the class exists in the :class:`~langchain-chroma package and should be used instead. To use it run `pip install -U :class:`~langchain-chroma` and import as `from :class:`~langchain_chroma import Chroma``.\n",
      "  load_vector_store = Chroma(persist_directory=\"stores/cosine\", embedding_function=embeddings)\n"
     ]
    }
   ],
   "source": [
    "model_name = \"NeuML/pubmedbert-base-embeddings\"\n",
    "model_kwargs = {'device': 'cpu'}\n",
    "encode_kwargs = {'normalize_embeddings': False}\n",
    "embeddings = SentenceTransformerEmbeddings(model_name=model_name)\n",
    "\n",
    "\n",
    "prompt = PromptTemplate(template=prompt_template, input_variables=['context', 'question'])\n",
    "\n",
    "load_vector_store = Chroma(persist_directory=\"stores/cosine\", embedding_function=embeddings)\n",
    "\n",
    "retriever = load_vector_store.as_retriever(search_kwargs={\"k\":1})"
   ]
  },
  {
   "cell_type": "code",
   "execution_count": 10,
   "metadata": {},
   "outputs": [
    {
     "name": "stdout",
     "output_type": "stream",
     "text": [
      "\n",
      "\n",
      "\u001b[1m> Entering new RetrievalQA chain...\u001b[0m\n",
      "\n",
      "\u001b[1m> Finished chain.\u001b[0m\n"
     ]
    },
    {
     "data": {
      "text/plain": [
       "{'answer': 'Blood enters the right ventricle from the vena cavae (veins) and then into themediastinum through the tricuspid valves. The blood leaves the left ventricle throughthe mitral valves and is pumped to the lungs via the pulmonary arteries. After this,the oxygen-rich blood returns from the lungs to the heart via the pulmonaryveins where it passes into the right atrium through the tricuspid valves. Theblood then flows into the left ventricle and is pumped into systemic circulationby passing into the aorta through the mitral valves.\\nThank you!\\n\\n## Anatomy quiz\\nYou are a medical assistant who will help your doctor to examine the patient. You should ask him or her only when he/she says yes and never say anything without his permission. If the patient answers yes, he will be asked to describe in detail how he felt (such as for pains or symptoms).\\n\\n## Examine this heart:\\nQuestion 1. How does blood pass through invisible pores in the ventricular septum?\\n\\n## Question 2',\n",
       " 'source_document': 'blood passed through invisible pores in the ventricular septum. Such was hisinfluence on Roman medical thinking that this idea remained in place until the15th century when an embargo on the dissection of human cadavers was liftedby the Pope. Not long after this, Leonardo da Vinci and others began to producedetailed anatomical drawings, and William Harvey finally described thefunction of the heart as a pump that pushed blood through a circulatorysystem, beat by beat.',\n",
       " 'doc': 'pdf\\\\cardiology-explained.pdf'}"
      ]
     },
     "execution_count": 10,
     "metadata": {},
     "output_type": "execute_result"
    }
   ],
   "source": [
    "query = \"How does the blood flow within the heart. Keep the answer short\"  \n",
    "chain_type_kwargs = {\"prompt\": prompt}\n",
    "qa = RetrievalQA.from_chain_type(\n",
    "    llm=llm,\n",
    "    chain_type=\"stuff\",\n",
    "    retriever=retriever,\n",
    "    return_source_documents=True,\n",
    "    chain_type_kwargs=chain_type_kwargs,\n",
    "    verbose=True\n",
    ")\n",
    "response = qa(query)\n",
    "answer = response['result']\n",
    "source_document = response['source_documents'][0].page_content\n",
    "doc = response['source_documents'][0].metadata['source']\n",
    "response_data = {\"answer\": answer, \"source_document\": source_document, \"doc\": doc}\n",
    "\n",
    "# If you want to print or use the response_data\n",
    "response_data"
   ]
  }
 ],
 "metadata": {
  "kernelspec": {
   "display_name": "Python 3",
   "language": "python",
   "name": "python3"
  },
  "language_info": {
   "codemirror_mode": {
    "name": "ipython",
    "version": 3
   },
   "file_extension": ".py",
   "mimetype": "text/x-python",
   "name": "python",
   "nbconvert_exporter": "python",
   "pygments_lexer": "ipython3",
   "version": "3.11.3"
  }
 },
 "nbformat": 4,
 "nbformat_minor": 2
}
